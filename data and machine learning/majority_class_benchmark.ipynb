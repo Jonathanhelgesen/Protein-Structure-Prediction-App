{
 "cells": [
  {
   "cell_type": "code",
   "execution_count": 1,
   "metadata": {},
   "outputs": [],
   "source": [
    "import pandas as pd\n",
    "\n",
    "train_data = pd.read_csv('less_than_400_train_data.csv')\n",
    "test_data = pd.read_csv('less_than_400_test_data.csv')"
   ]
  },
  {
   "cell_type": "code",
   "execution_count": 2,
   "metadata": {},
   "outputs": [
    {
     "name": "stdout",
     "output_type": "stream",
     "text": [
      "Accuracy of always predicting the most common Q3 token: 44.58%\n",
      "Accuracy of always predicting the most common Q8 token: 30.02%\n"
     ]
    }
   ],
   "source": [
    "from collections import Counter\n",
    "\n",
    "def calculate_accuracy(train_data, test_data, column):\n",
    "    all_tokens_train = ''.join(train_data[column])\n",
    "    most_common_token = Counter(all_tokens_train).most_common(1)[0][0]\n",
    "    \n",
    "    all_tokens_test = ''.join(test_data[column])\n",
    "    correct_predictions = all_tokens_test.count(most_common_token)\n",
    "    accuracy = correct_predictions / len(all_tokens_test)\n",
    "    \n",
    "    return accuracy\n",
    "\n",
    "accuracy_sst3 = calculate_accuracy(train_data, test_data, 'sst3')\n",
    "accuracy_sst8 = calculate_accuracy(train_data, test_data, 'sst8')\n",
    "\n",
    "print(f'Accuracy of always predicting the most common Q3 token: {accuracy_sst3:.2%}')\n",
    "print(f'Accuracy of always predicting the most common Q8 token: {accuracy_sst8:.2%}')"
   ]
  }
 ],
 "metadata": {
  "kernelspec": {
   "display_name": "Python 3",
   "language": "python",
   "name": "python3"
  },
  "language_info": {
   "codemirror_mode": {
    "name": "ipython",
    "version": 3
   },
   "file_extension": ".py",
   "mimetype": "text/x-python",
   "name": "python",
   "nbconvert_exporter": "python",
   "pygments_lexer": "ipython3",
   "version": "3.9.1"
  }
 },
 "nbformat": 4,
 "nbformat_minor": 2
}
