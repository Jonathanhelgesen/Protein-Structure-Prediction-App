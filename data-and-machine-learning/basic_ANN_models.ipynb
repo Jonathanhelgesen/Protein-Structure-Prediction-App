{
  "cells": [
    {
      "cell_type": "markdown",
      "metadata": {},
      "source": [
        "# Make data ready"
      ]
    },
    {
      "cell_type": "code",
      "execution_count": null,
      "metadata": {
        "id": "5LyPoQ9vNJcc"
      },
      "outputs": [],
      "source": [
        "import pandas as pd\n",
        "from tensorflow.keras.preprocessing.text import Tokenizer\n",
        "from tensorflow.keras.preprocessing.sequence import pad_sequences\n",
        "from sklearn.model_selection import train_test_split\n",
        "from tensorflow.keras.models import Sequential\n",
        "from tensorflow.keras.layers import Embedding, LSTM, Dense, TimeDistributed, Bidirectional, GRU\n",
        "from tensorflow.keras.optimizers import Adam\n",
        "import tensorflow.keras.backend as K\n",
        "import numpy as np\n",
        "\n",
        "train_data = pd.read_csv(\"less_than_400_train_data.csv\")\n",
        "test_data = pd.read_csv(\"less_than_400_test_data.csv\")\n",
        "\n",
        "max_seq_length = max(max(train_data['len']), max(test_data['len']))\n",
        "\n",
        "seq_tokenizer = Tokenizer(char_level=True)\n",
        "sst3_tokenizer = Tokenizer(char_level=True)\n",
        "sst8_tokenizer = Tokenizer(char_level=True)\n",
        "\n",
        "seq_tokenizer.fit_on_texts(train_data['seq'])\n",
        "sst3_tokenizer.fit_on_texts(train_data['sst3'])\n",
        "sst8_tokenizer.fit_on_texts(train_data['sst8'])\n",
        "\n",
        "encoded_seqs_train = seq_tokenizer.texts_to_sequences(train_data['seq'])\n",
        "encoded_sst3_train = sst3_tokenizer.texts_to_sequences(train_data['sst3'])\n",
        "encoded_sst8_train = sst8_tokenizer.texts_to_sequences(train_data['sst8'])\n",
        "\n",
        "encoded_seqs_test = seq_tokenizer.texts_to_sequences(test_data['seq'])\n",
        "encoded_sst3_test = sst3_tokenizer.texts_to_sequences(test_data['sst3'])\n",
        "encoded_sst8_test = sst8_tokenizer.texts_to_sequences(test_data['sst8'])\n",
        "\n",
        "padded_seqs_train = pad_sequences(encoded_seqs_train, maxlen=max_seq_length, padding='post', truncating='post')\n",
        "padded_sst3_train = pad_sequences(encoded_sst3_train, maxlen=max_seq_length, padding='post', truncating='post')\n",
        "padded_sst8_train = pad_sequences(encoded_sst8_train, maxlen=max_seq_length, padding='post', truncating='post')\n",
        "\n",
        "padded_seqs_test = pad_sequences(encoded_seqs_test, maxlen=max_seq_length, padding='post', truncating='post')\n",
        "padded_sst3_test = pad_sequences(encoded_sst3_test, maxlen=max_seq_length, padding='post', truncating='post')\n",
        "padded_sst8_test = pad_sequences(encoded_sst8_test, maxlen=max_seq_length, padding='post', truncating='post')\n",
        "\n",
        "vocab_size = len(seq_tokenizer.word_index) + 1\n",
        "output_dim_sst3 = len(sst3_tokenizer.word_index) + 1\n",
        "output_dim_sst8 = len(sst8_tokenizer.word_index) + 1"
      ]
    },
    {
      "cell_type": "code",
      "execution_count": null,
      "metadata": {},
      "outputs": [],
      "source": [
        "import pickle\n",
        "\n",
        "with open('amino_acid_tokenizer.pickle', 'wb') as handle:\n",
        "    pickle.dump(seq_tokenizer, handle, protocol=pickle.HIGHEST_PROTOCOL)\n",
        "\n",
        "with open('sst3_tokenizer.pickle', 'wb') as handle:\n",
        "    pickle.dump(sst3_tokenizer, handle, protocol=pickle.HIGHEST_PROTOCOL)\n",
        "\n",
        "with open('sst8_tokenizer.pickle', 'wb') as handle:\n",
        "    pickle.dump(sst8_tokenizer, handle, protocol=pickle.HIGHEST_PROTOCOL)"
      ]
    },
    {
      "cell_type": "markdown",
      "metadata": {},
      "source": [
        "# Models"
      ]
    },
    {
      "cell_type": "code",
      "execution_count": null,
      "metadata": {
        "colab": {
          "base_uri": "https://localhost:8080/"
        },
        "id": "bZUSgGr-Nkk3",
        "outputId": "7f1dc7c0-ed98-4c49-9309-f71bdf34b1a8"
      },
      "outputs": [],
      "source": [
        "from tensorflow.keras.layers import Embedding, LSTM, Dense, TimeDistributed, Bidirectional, GRU, Dropout, Conv1D, GlobalMaxPooling1D\n",
        "\n",
        "def create_model(output_dim):\n",
        "    model = Sequential([\n",
        "        Embedding(input_dim=vocab_size, output_dim=256, input_length=max_seq_length),\n",
        "        # Bidirectional(LSTM(512, return_sequences=True)),\n",
        "        Dropout(0.5),\n",
        "        Dense(128, activation='relu'),\n",
        "        Dropout(0.5),\n",
        "        TimeDistributed(Dense(output_dim, activation='softmax'))\n",
        "    ])\n",
        "\n",
        "    return model\n",
        "\n",
        "model_sst3 = create_model(output_dim_sst3)\n",
        "model_sst8 = create_model(output_dim_sst8)\n",
        "\n",
        "def masked_accuracy(y_true, y_pred):\n",
        "    y_true = K.flatten(y_true)\n",
        "    y_pred = K.flatten(K.argmax(y_pred, axis=-1))\n",
        "\n",
        "    y_true = K.cast(y_true, 'int16')\n",
        "    y_pred = K.cast(y_pred, 'int16')\n",
        "\n",
        "    mask = K.cast(K.not_equal(y_true, 0), 'float16')\n",
        "    correct_predictions = K.cast(K.equal(y_true, y_pred), 'float16') * mask\n",
        "    accuracy = K.sum(correct_predictions) / K.sum(mask)\n",
        "    return accuracy\n",
        "\n",
        "model_sst3 = create_model(output_dim_sst3)\n",
        "model_sst8 = create_model(output_dim_sst8)\n",
        "\n",
        "model_sst3.compile(optimizer='adam', loss='sparse_categorical_crossentropy', metrics=[masked_accuracy])\n",
        "model_sst8.compile(optimizer='adam', loss='sparse_categorical_crossentropy', metrics=[masked_accuracy])\n",
        "\n",
        "history_sst3 = model_sst3.fit(padded_seqs_train, np.expand_dims(padded_sst3_train, -1), validation_data=(padded_seqs_test, np.expand_dims(padded_sst3_test, -1)), epochs=10, batch_size=128)\n",
        "history_sst8 = model_sst8.fit(padded_seqs_train, np.expand_dims(padded_sst8_train, -1), validation_data=(padded_seqs_test, np.expand_dims(padded_sst8_test, -1)), epochs=10, batch_size=128)\n",
        "\n",
        "sst3_loss, sst3_acc = model_sst3.evaluate(padded_seqs_test, np.expand_dims(padded_sst3_test, -1))\n",
        "sst8_loss, sst8_acc = model_sst8.evaluate(padded_seqs_test, np.expand_dims(padded_sst8_test, -1))\n",
        "\n",
        "print(f'SST3 Model Accuracy: {sst3_acc}')\n",
        "print(f'SST8 Model Accuracy: {sst8_acc}')"
      ]
    },
    {
      "cell_type": "code",
      "execution_count": null,
      "metadata": {
        "id": "6mmsnqdANtxe"
      },
      "outputs": [],
      "source": [
        "import datetime\n",
        "\n",
        "current_date_hour = datetime.datetime.now().strftime(\"%m%d%H\")\n",
        "\n",
        "model_sst3.save(f'sst3_model_{current_date_hour}_64es_dense.h5')\n",
        "model_sst8.save(f'sst8_model_{current_date_hour}_64es_dense.h5')"
      ]
    },
    {
      "cell_type": "markdown",
      "metadata": {},
      "source": [
        "# Plots"
      ]
    },
    {
      "cell_type": "code",
      "execution_count": null,
      "metadata": {
        "colab": {
          "base_uri": "https://localhost:8080/",
          "height": 472
        },
        "id": "e1GmYUFTOUYu",
        "outputId": "fa6071de-686e-4d6a-96fa-03f615033bb7"
      },
      "outputs": [],
      "source": [
        "import matplotlib.pyplot as plt\n",
        "\n",
        "plt.plot(history_sst3.history['loss'], label='Training Q3 Loss')\n",
        "plt.plot(history_sst3.history['val_loss'], label='Test Q3 Loss')\n",
        "plt.xlabel('Epochs')\n",
        "plt.ylabel('Q3 Loss')\n",
        "plt.title('Training and Test Q3 Loss')\n",
        "plt.legend()\n",
        "\n",
        "plt.savefig(f'sst3_training_validation_loss{current_date_hour}_dense.png')\n",
        "\n",
        "plt.show()"
      ]
    },
    {
      "cell_type": "code",
      "execution_count": null,
      "metadata": {
        "colab": {
          "base_uri": "https://localhost:8080/",
          "height": 472
        },
        "id": "ysYBkSQEU9Bn",
        "outputId": "e6f5235e-e1f7-4095-f6d3-86bea600ca9c"
      },
      "outputs": [],
      "source": [
        "import matplotlib.pyplot as plt\n",
        "\n",
        "plt.plot(history_sst3.history['masked_accuracy'], label='Training Q3 Accuracy')\n",
        "plt.plot(history_sst3.history['val_masked_accuracy'], label='Test Q3 Accuracy')\n",
        "plt.xlabel('Epochs')\n",
        "plt.ylabel('Q3 Accuracy')\n",
        "plt.title('Training and Test Q3 Accuracy')\n",
        "plt.legend()\n",
        "\n",
        "plt.savefig(f'sst3_training_validation_accuracy{current_date_hour}_dense.png')\n",
        "\n",
        "plt.show()"
      ]
    },
    {
      "cell_type": "code",
      "execution_count": null,
      "metadata": {
        "colab": {
          "base_uri": "https://localhost:8080/",
          "height": 472
        },
        "id": "NfGhlHJ4VCDg",
        "outputId": "a54f12f7-5137-433f-e835-604e9a253998"
      },
      "outputs": [],
      "source": [
        "plt.plot(history_sst8.history['loss'], label='Training Q8 Loss')\n",
        "plt.plot(history_sst8.history['val_loss'], label='Test Q8 Loss')\n",
        "plt.xlabel('Epochs')\n",
        "plt.ylabel('Q8 Loss')\n",
        "plt.title('Training and Test Q8 Loss')\n",
        "plt.legend()\n",
        "\n",
        "plt.savefig(f'sst8_training_validation_loss{current_date_hour}_dense.png')\n",
        "\n",
        "plt.show()"
      ]
    },
    {
      "cell_type": "code",
      "execution_count": null,
      "metadata": {
        "colab": {
          "base_uri": "https://localhost:8080/",
          "height": 472
        },
        "id": "0WPRz_olVGfU",
        "outputId": "84baa06f-764b-4452-87c9-672f8e4d17fa"
      },
      "outputs": [],
      "source": [
        "plt.plot(history_sst8.history['masked_accuracy'], label='Training Q8 Accuracy')\n",
        "plt.plot(history_sst8.history['val_masked_accuracy'], label='Test Q8 Accuracy')\n",
        "plt.xlabel('Epochs')\n",
        "plt.ylabel('Q8 Accuracy')\n",
        "plt.title('Training and Test Q8 Accuracy')\n",
        "plt.legend()\n",
        "\n",
        "plt.savefig(f'sst8_training_validation_accuracy{current_date_hour}_dense.png')\n",
        "\n",
        "plt.show()"
      ]
    }
  ],
  "metadata": {
    "colab": {
      "machine_shape": "hm",
      "provenance": []
    },
    "kernelspec": {
      "display_name": "Python 3",
      "name": "python3"
    },
    "language_info": {
      "codemirror_mode": {
        "name": "ipython",
        "version": 3
      },
      "file_extension": ".py",
      "mimetype": "text/x-python",
      "name": "python",
      "nbconvert_exporter": "python",
      "pygments_lexer": "ipython3",
      "version": "3.9.1"
    }
  },
  "nbformat": 4,
  "nbformat_minor": 0
}
